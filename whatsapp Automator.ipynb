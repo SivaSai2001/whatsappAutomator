{
 "cells": [
  {
   "cell_type": "markdown",
   "id": "f5b5d0d5",
   "metadata": {},
   "source": [
    "### Whatsapp auto wisher"
   ]
  },
  {
   "cell_type": "markdown",
   "id": "e0dd310f",
   "metadata": {},
   "source": [
    "Now-a-days we are watching that it has become a trend to message in whatsapp and wish\n",
    "birthdays, anniversaries or any special occasion. But yesterday was my friend’s birthday and I\n",
    "forget to wish him. You need to automate WhatsApp and set the date and time at which the wish\n",
    "of occasion will be automatically sent to the person you want.\n"
   ]
  },
  {
   "cell_type": "markdown",
   "id": "807c8cf9",
   "metadata": {},
   "source": [
    "### Team Members - Tech Smashers"
   ]
  },
  {
   "cell_type": "markdown",
   "id": "bedb0379",
   "metadata": {},
   "source": [
    "1.Sivasai"
   ]
  },
  {
   "cell_type": "markdown",
   "id": "9ffc8acf",
   "metadata": {},
   "source": [
    "2.Appanna Babu"
   ]
  },
  {
   "cell_type": "markdown",
   "id": "5252ed8c",
   "metadata": {},
   "source": [
    "3.Poojith"
   ]
  },
  {
   "cell_type": "code",
   "execution_count": 5,
   "id": "c46f4ea7",
   "metadata": {},
   "outputs": [
    {
     "name": "stdout",
     "output_type": "stream",
     "text": [
      "2021-10-05\n",
      "2021-10-04\n",
      "+919885825959\n",
      "Happy birthday\n",
      "2021-10-04\n",
      "(7, 41, 'PM')\n",
      "2021-10-04\n"
     ]
    }
   ],
   "source": [
    "# Required modules\n",
    "import tkinter as tk\n",
    "from tkcalendar import Calendar\n",
    "import ttk\n",
    "import datetime\n",
    "import pywhatkit\n",
    "from tktimepicker import SpinTimePickerModern, SpinTimePickerOld\n",
    "from tktimepicker import constants\n",
    "import time\n",
    "\n",
    "class Application(tk.Frame):\n",
    "\n",
    "    def __init__(self, master=None):\n",
    "        super().__init__(master)\n",
    "        self.master = master\n",
    "        self.pack()\n",
    "        self.LabelTextBox()\n",
    "        self.text_box()\n",
    "        self.msgTextBoxLabel()\n",
    "        self.msg_text_box()\n",
    "        self.LabelDate()\n",
    "        self.date()\n",
    "        self.LabelTimeBox()\n",
    "        self.timer()\n",
    "        self.SpaceUploadLabel()\n",
    "        self.buttonCreation()\n",
    "        \n",
    "        \n",
    "        \n",
    "    def LabelTextBox(self):\n",
    "        self.l = tk.Label(root, text = \"Enter Mobile Number\")\n",
    "        self.l.pack()\n",
    "        \n",
    "    def text_box(self):\n",
    "        self.inputtxt = tk.Text(root,height = 2,width = 20) \n",
    "        self.inputtxt.pack()\n",
    "        \n",
    "    def msgTextBoxLabel(self):\n",
    "        self.l = tk.Label(root, text = \"Enter Your Message\")\n",
    "        self.l.pack()\n",
    "\n",
    "    def msg_text_box(self):\n",
    "        self.inputmsgtxt = tk.Text(root,height = 5,width = 20) \n",
    "        self.inputmsgtxt.pack()\n",
    "    \n",
    "    def printInput(self):\n",
    "        self.inp = self.inputtxt.get(1.0, \"end-1c\")\n",
    "        self.msg=self.inputmsgtxt.get(1.0,\"end-1c\")\n",
    "        print(self.inp)\n",
    "        print(self.msg)\n",
    "        print(self.date)\n",
    "        print(self.time_picker.time())\n",
    "        root.destroy()\n",
    "        self.send_msg()\n",
    "\n",
    "    def LabelDate(self):\n",
    "        self.ldate=tk.Label(root,text='Select the date')\n",
    "        self.ldate.pack()\n",
    "\n",
    "    def date(self):\n",
    "        self.cal = Calendar(root,\n",
    "                   font=\"Arial 14\", selectmode='day',\n",
    "                  year=datetime.datetime.now().year, month=datetime.datetime.now().month, day=datetime.datetime.now().day)\n",
    "        self.cal.pack()\n",
    "        ttk.Button(root, text=\"ok\", command=self.printDate).pack()\n",
    "\n",
    "    def printDate(self):\n",
    "        self.date=self.cal.selection_get()\n",
    "        print(self.date)\n",
    "     \n",
    "        \n",
    "    def SpaceUploadLabel(self):\n",
    "        self.sfile=tk.Label(root,text='           ')\n",
    "        self.sfile.pack()\n",
    "        \n",
    "        \n",
    "    def LabelTimeBox(self):\n",
    "        self.le = tk.Label(root, text = \"Select the time\")\n",
    "        self.le.pack()\n",
    "        \n",
    "    def timer(self):\n",
    "        self.time_picker = SpinTimePickerModern(root)\n",
    "        self.time_picker.addAll(constants.HOURS12)  # adds hours clock, minutes and period\n",
    "        self.time_picker.configureAll(bg=\"#404040\", height=1, fg=\"#ffffff\", font=(\"Times\", 16), hoverbg=\"#404040\",\n",
    "                                    hovercolor=\"#d73333\", clickedbg=\"#2e2d2d\", clickedcolor=\"#d73333\")\n",
    "        self.time_picker.configure_seprator(bg=\"#404040\", fg=\"#ffffff\")\n",
    "        self.time_picker.pack()\n",
    "\n",
    "        self.ok_btn = tk.Button(root, text=\"ok\")\n",
    "        self.ok_btn.pack()\n",
    "        \n",
    "    def send_msg(self):\n",
    "        x=list(self.time_picker.time())\n",
    "        if x[2]=='PM':\n",
    "            if x[0]==12:\n",
    "                x[0]=00\n",
    "            else:\n",
    "                x[0]+=12\n",
    "        print(self.date)\n",
    "        sending_time=datetime.datetime(self.date.year,self.date.month,self.date.day,x[0],x[1])\n",
    "        duration=(sending_time-datetime.datetime.now()).total_seconds()\n",
    "        time.sleep(duration)\n",
    "        pywhatkit.sendwhatmsg_instantly(self.inp,self.msg)\n",
    "        \n",
    "    def buttonCreation(self):\n",
    "        self.printButton = tk.Button(root,text = \"Send Message\", command = self.printInput)\n",
    "        self.printButton.pack() \n",
    "\n",
    "\n",
    "root = tk.Tk()\n",
    "app = Application(master=root)\n",
    "root.winfo_toplevel().title(\"whatsapp scheduler\")\n",
    "app.mainloop()\n"
   ]
  },
  {
   "cell_type": "code",
   "execution_count": null,
   "id": "3254735e",
   "metadata": {},
   "outputs": [],
   "source": []
  }
 ],
 "metadata": {
  "kernelspec": {
   "display_name": "Python 3",
   "language": "python",
   "name": "python3"
  },
  "language_info": {
   "codemirror_mode": {
    "name": "ipython",
    "version": 3
   },
   "file_extension": ".py",
   "mimetype": "text/x-python",
   "name": "python",
   "nbconvert_exporter": "python",
   "pygments_lexer": "ipython3",
   "version": "3.8.8"
  }
 },
 "nbformat": 4,
 "nbformat_minor": 5
}
